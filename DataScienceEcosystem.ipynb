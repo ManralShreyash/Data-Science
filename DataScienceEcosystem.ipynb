{
 "cells": [
  {
   "cell_type": "markdown",
   "id": "d0dd0b17-7ae8-4848-aae0-6c38066d132f",
   "metadata": {},
   "source": [
    "# Data Science Tools and Ecosystem"
   ]
  },
  {
   "cell_type": "markdown",
   "id": "6ec43604-a565-4abd-bea4-8b02973f0c07",
   "metadata": {},
   "source": [
    "In this notebook, Data Science Tools and Ecosystem are summarized."
   ]
  },
  {
   "cell_type": "markdown",
   "id": "3576882f-cd8a-46d3-8394-44aa486f663e",
   "metadata": {},
   "source": [
    "**Objectives:**\n",
    "* List popular languages for Data Science\n",
    "* List popular libraries for Data Science\n",
    "* List popular open source development environments for Data science\n",
    "* Solve basic arithmetic expression"
   ]
  },
  {
   "cell_type": "markdown",
   "id": "3f2eeb60-180f-4574-80d6-86cddb0ccff2",
   "metadata": {},
   "source": [
    "Some of the popular languages that Data Scientists use are:\n",
    "1. R \n",
    "2. Python\n",
    "3. SQL"
   ]
  },
  {
   "cell_type": "markdown",
   "id": "cd376454-e016-4ed5-8b97-560a40d9776c",
   "metadata": {},
   "source": [
    "Some of the popular libraries that Data Scientists use are:\n",
    "1. NumPy\n",
    "2. Keras\n",
    "3. Pandas"
   ]
  },
  {
   "cell_type": "markdown",
   "id": "390463bd-fd35-486f-8fc2-bc42fe9917dc",
   "metadata": {},
   "source": [
    "|Data Science Tools|\n",
    "|------------------|\n",
    "|Rstudio|\n",
    "|Jupyter Notebook|\n",
    "|Apache Spark|"
   ]
  },
  {
   "cell_type": "markdown",
   "id": "ff5a17af-905c-48cd-8dba-12c6475a6a2e",
   "metadata": {},
   "source": [
    "### Below are a few examples of evaluating arithmetic expressions in python"
   ]
  },
  {
   "cell_type": "code",
   "execution_count": 1,
   "id": "a3b71460-86af-474b-97dd-38b56f433d41",
   "metadata": {},
   "outputs": [
    {
     "name": "stdout",
     "output_type": "stream",
     "text": [
      "5\n"
     ]
    }
   ],
   "source": [
    "x = 2 \n",
    "y = 3\n",
    "z = x+y\n",
    "print(z)"
   ]
  },
  {
   "cell_type": "code",
   "execution_count": 2,
   "id": "a1c362d1-64f5-44db-b26d-4f9c9f833e0e",
   "metadata": {},
   "outputs": [
    {
     "name": "stdout",
     "output_type": "stream",
     "text": [
      "17\n"
     ]
    }
   ],
   "source": [
    "# This is a simple arithmetic expression to multiply then add integers #\n",
    "\n",
    "print((3*4)+5)"
   ]
  },
  {
   "cell_type": "code",
   "execution_count": 3,
   "id": "daa7ae83-83e4-482e-b659-84b7991d29c2",
   "metadata": {},
   "outputs": [
    {
     "name": "stdout",
     "output_type": "stream",
     "text": [
      "3.3333333333333335 hours\n"
     ]
    }
   ],
   "source": [
    "# This is to convert minutes to hours # \n",
    "\n",
    "x = 200\n",
    "print (200/60,\"hours\")"
   ]
  },
  {
   "cell_type": "markdown",
   "id": "4a53f92e-2528-4ca4-b2e5-5f2fda059e82",
   "metadata": {},
   "source": [
    "## Author\n",
    "Shreyash Manral"
   ]
  },
  {
   "cell_type": "code",
   "execution_count": null,
   "id": "2a8c3c48-cd7c-4588-9fdf-63c24310c5ff",
   "metadata": {},
   "outputs": [],
   "source": []
  }
 ],
 "metadata": {
  "kernelspec": {
   "display_name": "Python 3 (ipykernel)",
   "language": "python",
   "name": "python3"
  },
  "language_info": {
   "codemirror_mode": {
    "name": "ipython",
    "version": 3
   },
   "file_extension": ".py",
   "mimetype": "text/x-python",
   "name": "python",
   "nbconvert_exporter": "python",
   "pygments_lexer": "ipython3",
   "version": "3.11.4"
  }
 },
 "nbformat": 4,
 "nbformat_minor": 5
}
